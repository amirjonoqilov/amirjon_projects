{
 "cells": [
  {
   "cell_type": "code",
   "execution_count": null,
   "id": "c57f167d-2ae9-4235-a21b-5b82be17051a",
   "metadata": {},
   "outputs": [],
   "source": []
  }
 ],
 "metadata": {
  "kernelspec": {
   "display_name": "",
   "name": ""
  },
  "language_info": {
   "name": ""
  }
 },
 "nbformat": 4,
 "nbformat_minor": 5
}
